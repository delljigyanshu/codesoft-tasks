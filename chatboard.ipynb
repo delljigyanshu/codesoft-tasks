{
 "cells": [
  {
   "cell_type": "code",
   "execution_count": null,
   "id": "4f58a32f-b8d6-45fc-be6e-d37de6720c24",
   "metadata": {},
   "outputs": [
    {
     "name": "stdin",
     "output_type": "stream",
     "text": [
      "You:  hello\n"
     ]
    },
    {
     "name": "stdout",
     "output_type": "stream",
     "text": [
      "Chatbot: Hello! How can I assist you today?\n"
     ]
    },
    {
     "name": "stdin",
     "output_type": "stream",
     "text": [
      "You:  who are you\n"
     ]
    },
    {
     "name": "stdout",
     "output_type": "stream",
     "text": [
      "Chatbot: I'm a simple rule-based chatbot. I can answer basic questions and chat with you!\n"
     ]
    },
    {
     "name": "stdin",
     "output_type": "stream",
     "text": [
      "You:  help\n"
     ]
    },
    {
     "name": "stdout",
     "output_type": "stream",
     "text": [
      "Chatbot: Sure! I'm here to help. What do you need assistance with?\n"
     ]
    }
   ],
   "source": [
    "def chatbot_response(user_input):\n",
    "    user_input = user_input.lower()\n",
    "\n",
    "    if \"hello\" in user_input or \"hi\" in user_input:\n",
    "        return \"Hello! How can I assist you today?\"\n",
    "    \n",
    "    elif \"who are you\" in user_input or \"what are you\" in user_input:\n",
    "        return \"I'm a simple rule-based chatbot. I can answer basic questions and chat with you!\"\n",
    "\n",
    "    elif \"help\" in user_input or \"support\" in user_input:\n",
    "        return \"Sure! I'm here to help. What do you need assistance with?\"\n",
    "    \n",
    "    elif \"time\" in user_input:\n",
    "        from datetime import datetime\n",
    "        return f\"The current time is {datetime.now().strftime('%H:%M:%S')}.\"\n",
    "\n",
    "    elif \"bye\" in user_input or \"goodbye\" in user_input:\n",
    "        return \"Goodbye! Have a great day!\"\n",
    "\n",
    "    else:\n",
    "         return \"I'm sorry, I didn't understand that. Can you please rephrase?\"\n",
    "\n",
    "while True:\n",
    "    user_input = input(\"You: \")\n",
    "    if \"exit\" in user_input.lower():\n",
    "        print(\"Chatbot: Goodbye!\")\n",
    "        break\n",
    "    \n",
    "    response = chatbot_response(user_input)\n",
    "    print(f\"Chatbot: {response}\")\n"
   ]
  }
 ],
 "metadata": {
  "kernelspec": {
   "display_name": "Python 3 (ipykernel)",
   "language": "python",
   "name": "python3"
  },
  "language_info": {
   "codemirror_mode": {
    "name": "ipython",
    "version": 3
   },
   "file_extension": ".py",
   "mimetype": "text/x-python",
   "name": "python",
   "nbconvert_exporter": "python",
   "pygments_lexer": "ipython3",
   "version": "3.11.5"
  }
 },
 "nbformat": 4,
 "nbformat_minor": 5
}
